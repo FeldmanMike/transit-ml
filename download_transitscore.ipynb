{
 "cells": [
  {
   "cell_type": "markdown",
   "metadata": {},
   "source": [
    "## 1. Transit Score"
   ]
  },
  {
   "cell_type": "code",
   "execution_count": 1,
   "metadata": {},
   "outputs": [],
   "source": [
    "import pandas as pd\n",
    "from pandas.io.json import json_normalize\n",
    "import requests "
   ]
  },
  {
   "cell_type": "markdown",
   "metadata": {},
   "source": [
    "**Transit Score Documentation:** https://www.walkscore.com/professional/public-transit-api.php <br>\n",
    "**Google Docs of Support Places:** https://docs.google.com/spreadsheets/d/1pz8GtZKEPISjq-pbYzfRJRD59nLI-_VGgLZiWFAv4gw/edit?hl=en&hl=en#gid=0 <br>\n",
    "**Requests Documentatiion:** https://pypi.org/project/requests/"
   ]
  },
  {
   "cell_type": "code",
   "execution_count": 20,
   "metadata": {},
   "outputs": [],
   "source": [
    "def get_data(lat, lng):\n",
    "    '''\n",
    "    Gets data for one location.\n",
    "    \n",
    "    Inputs:\n",
    "        lat, lng (str)\n",
    "    Returns:\n",
    "        (json)\n",
    "    '''\n",
    "    rv = None\n",
    "    #key = '4c4eb18a1eea25128110eaf683aefab4'\n",
    "    key = 'ffd1c56f9abcf84872116b4cc2dfcf31' #Mike's first key\n",
    "    url = 'https://transit.walkscore.com/transit/score/?lat={}&lon={}&wsapikey={}'.format(lat, lng, key)\n",
    "    r = requests.get(url)\n",
    "    if not r.status_code==400:\n",
    "        rv = r.json()\n",
    "    \n",
    "    return rv"
   ]
  },
  {
   "cell_type": "code",
   "execution_count": 3,
   "metadata": {},
   "outputs": [
    {
     "data": {
      "text/plain": [
       "{'transit_score': 70,\n",
       " 'help_link': 'https://www.redfin.com/how-walk-score-works',\n",
       " 'summary': '9 nearby routes: 7 bus, 2 rail, 0 other',\n",
       " 'logo_url': 'https://cdn.walk.sc/images/transit-score-logo.png',\n",
       " 'ws_link': 'https://www.walkscore.com/score/loc/lat=41.9231/lng=-87.7093/?utm_source=uchicago.edu&utm_medium=ts_api&utm_campaign=ts_api',\n",
       " 'description': 'Excellent Transit'}"
      ]
     },
     "execution_count": 3,
     "metadata": {},
     "output_type": "execute_result"
    }
   ],
   "source": [
    "#Example for Logan Sqaure\n",
    "get_data('41.9231', '-87.7093')"
   ]
  },
  {
   "cell_type": "code",
   "execution_count": 4,
   "metadata": {},
   "outputs": [],
   "source": [
    "#Example invalid lat, long\n",
    "get_data('23', '-56')"
   ]
  },
  {
   "cell_type": "code",
   "execution_count": 22,
   "metadata": {},
   "outputs": [],
   "source": [
    "def create_datalist(df):\n",
    "    '''\n",
    "    Turns list of jsons into a dataframe\n",
    "    \n",
    "    Inputs:\n",
    "        acsse data frame (pandas Dataframe)\n",
    "    Returns:\n",
    "        list containing transit score for all places for which it is available (list of json)\n",
    "    '''\n",
    "    datalist = []\n",
    "    \n",
    "    for row in df.itertuples():\n",
    "        data = get_data(row.Lat, row.Lon)\n",
    "        if not data is None:\n",
    "            data[\"city\"] = row.city\n",
    "            datalist.append(data)\n",
    "    \n",
    "    return datalist"
   ]
  },
  {
   "cell_type": "code",
   "execution_count": 6,
   "metadata": {},
   "outputs": [],
   "source": [
    "def create_dataframe(data_list):\n",
    "    '''\n",
    "    Given the list of json objects containing transit score data, create dataframe.\n",
    "    '''    \n",
    "    df = pd.DataFrame.from_dict(json_normalize(data_list), orient='columns')\n",
    "    df = df.drop(columns=['help_link', 'logo_url'])\n",
    "    df[['nearby_routes', 'bus', 'rail', 'other']] = df['summary'].str.findall(r'\\d+').apply(pd.Series)\n",
    "    \n",
    "    return df"
   ]
  },
  {
   "cell_type": "markdown",
   "metadata": {},
   "source": [
    "## 2. Loading Census Data\n",
    "\n",
    "Here, loaded on \"city\" level to align with transit score data and export to csv."
   ]
  },
  {
   "cell_type": "code",
   "execution_count": 7,
   "metadata": {},
   "outputs": [],
   "source": [
    "import censusdata\n",
    "\n",
    "#Loading raw data\n",
    "acsse = censusdata.download(\"acsse\", 2018, censusdata.censusgeo([(\"state\", \"17\"), (\"place\", \"*\")]), \\\n",
    "                            [\"K200101_001E\",  \"GEO_ID\"]).reset_index()\n",
    "\n",
    "#Manipulations for clarity of columns\n",
    "acsse = acsse.rename(columns={\"K200101_001E\": \"Population\", \"index\": \"censusgeo\"})\n",
    "acsse[\"censusgeo\"] = acsse[\"censusgeo\"].astype(str)\n",
    "\n",
    "#Isolate place name and place type from censusgeo object\n",
    "acsse[\"Location\"] = acsse[\"censusgeo\"].str.extract(r'^(.+?),')\n",
    "\n",
    "#Creating separate columns for place name and place type\n",
    "acsse[\"Place_Name\"] = acsse[\"Location\"].str.extract(r'(.+)\\b\\w+$')\n",
    "acsse[\"Place_Type\"] = acsse[\"Location\"].str.extract(r'\\b(\\w+)$')\n",
    "\n",
    "acsse[\"Place_Name\"] = acsse[\"Place_Name\"].str.strip()\n",
    "acsse[\"Place_Type\"] = acsse[\"Place_Type\"].str.strip()"
   ]
  },
  {
   "cell_type": "code",
   "execution_count": 8,
   "metadata": {},
   "outputs": [
    {
     "data": {
      "text/plain": [
       "(128, 6)"
      ]
     },
     "execution_count": 8,
     "metadata": {},
     "output_type": "execute_result"
    }
   ],
   "source": [
    "acsse.shape"
   ]
  },
  {
   "cell_type": "code",
   "execution_count": 9,
   "metadata": {},
   "outputs": [
    {
     "data": {
      "text/html": [
       "<div>\n",
       "<style scoped>\n",
       "    .dataframe tbody tr th:only-of-type {\n",
       "        vertical-align: middle;\n",
       "    }\n",
       "\n",
       "    .dataframe tbody tr th {\n",
       "        vertical-align: top;\n",
       "    }\n",
       "\n",
       "    .dataframe thead th {\n",
       "        text-align: right;\n",
       "    }\n",
       "</style>\n",
       "<table border=\"1\" class=\"dataframe\">\n",
       "  <thead>\n",
       "    <tr style=\"text-align: right;\">\n",
       "      <th></th>\n",
       "      <th>censusgeo</th>\n",
       "      <th>Population</th>\n",
       "      <th>GEO_ID</th>\n",
       "      <th>Location</th>\n",
       "      <th>Place_Name</th>\n",
       "      <th>Place_Type</th>\n",
       "    </tr>\n",
       "  </thead>\n",
       "  <tbody>\n",
       "    <tr>\n",
       "      <th>0</th>\n",
       "      <td>Wheeling village, Illinois: Summary level: 160...</td>\n",
       "      <td>38877</td>\n",
       "      <td>1600000US1781087</td>\n",
       "      <td>Wheeling village</td>\n",
       "      <td>Wheeling</td>\n",
       "      <td>village</td>\n",
       "    </tr>\n",
       "    <tr>\n",
       "      <th>1</th>\n",
       "      <td>Glen Ellyn village, Illinois: Summary level: 1...</td>\n",
       "      <td>27558</td>\n",
       "      <td>1600000US1729756</td>\n",
       "      <td>Glen Ellyn village</td>\n",
       "      <td>Glen Ellyn</td>\n",
       "      <td>village</td>\n",
       "    </tr>\n",
       "    <tr>\n",
       "      <th>2</th>\n",
       "      <td>Normal town, Illinois: Summary level: 160, sta...</td>\n",
       "      <td>55152</td>\n",
       "      <td>1600000US1753234</td>\n",
       "      <td>Normal town</td>\n",
       "      <td>Normal</td>\n",
       "      <td>town</td>\n",
       "    </tr>\n",
       "    <tr>\n",
       "      <th>3</th>\n",
       "      <td>DeKalb city, Illinois: Summary level: 160, sta...</td>\n",
       "      <td>43888</td>\n",
       "      <td>1600000US1719161</td>\n",
       "      <td>DeKalb city</td>\n",
       "      <td>DeKalb</td>\n",
       "      <td>city</td>\n",
       "    </tr>\n",
       "    <tr>\n",
       "      <th>4</th>\n",
       "      <td>Collinsville city, Illinois: Summary level: 16...</td>\n",
       "      <td>25400</td>\n",
       "      <td>1600000US1715599</td>\n",
       "      <td>Collinsville city</td>\n",
       "      <td>Collinsville</td>\n",
       "      <td>city</td>\n",
       "    </tr>\n",
       "  </tbody>\n",
       "</table>\n",
       "</div>"
      ],
      "text/plain": [
       "                                           censusgeo  Population  \\\n",
       "0  Wheeling village, Illinois: Summary level: 160...       38877   \n",
       "1  Glen Ellyn village, Illinois: Summary level: 1...       27558   \n",
       "2  Normal town, Illinois: Summary level: 160, sta...       55152   \n",
       "3  DeKalb city, Illinois: Summary level: 160, sta...       43888   \n",
       "4  Collinsville city, Illinois: Summary level: 16...       25400   \n",
       "\n",
       "             GEO_ID            Location    Place_Name Place_Type  \n",
       "0  1600000US1781087    Wheeling village      Wheeling    village  \n",
       "1  1600000US1729756  Glen Ellyn village    Glen Ellyn    village  \n",
       "2  1600000US1753234         Normal town        Normal       town  \n",
       "3  1600000US1719161         DeKalb city        DeKalb       city  \n",
       "4  1600000US1715599   Collinsville city  Collinsville       city  "
      ]
     },
     "execution_count": 9,
     "metadata": {},
     "output_type": "execute_result"
    }
   ],
   "source": [
    "acsse.head()"
   ]
  },
  {
   "cell_type": "markdown",
   "metadata": {},
   "source": [
    "## 3. Linking Census \"Places\" with Longitude and Latitude\n",
    "\n",
    "**Link to US Cities Database**: https://simplemaps.com/data/us-cities <br>\n",
    "In my directory, it is entitled \"uscities.csv\". I've added \"uscities.csv\" to our repo."
   ]
  },
  {
   "cell_type": "code",
   "execution_count": 10,
   "metadata": {},
   "outputs": [],
   "source": [
    "#Load supported cities data\n",
    "cities = pd.read_csv(\"supported_cities.csv\")\n",
    "#Look at only Illinois cities\n",
    "il_cities = cities[cities['state']=='IL']"
   ]
  },
  {
   "cell_type": "code",
   "execution_count": 11,
   "metadata": {},
   "outputs": [
    {
     "data": {
      "text/plain": [
       "(68, 8)"
      ]
     },
     "execution_count": 11,
     "metadata": {},
     "output_type": "execute_result"
    }
   ],
   "source": [
    "il_cities.shape"
   ]
  },
  {
   "cell_type": "code",
   "execution_count": 36,
   "metadata": {},
   "outputs": [
    {
     "data": {
      "text/html": [
       "<div>\n",
       "<style scoped>\n",
       "    .dataframe tbody tr th:only-of-type {\n",
       "        vertical-align: middle;\n",
       "    }\n",
       "\n",
       "    .dataframe tbody tr th {\n",
       "        vertical-align: top;\n",
       "    }\n",
       "\n",
       "    .dataframe thead th {\n",
       "        text-align: right;\n",
       "    }\n",
       "</style>\n",
       "<table border=\"1\" class=\"dataframe\">\n",
       "  <thead>\n",
       "    <tr style=\"text-align: right;\">\n",
       "      <th></th>\n",
       "      <th>city</th>\n",
       "      <th>state</th>\n",
       "      <th>country</th>\n",
       "      <th>population</th>\n",
       "      <th>Lat</th>\n",
       "      <th>Lon</th>\n",
       "      <th>hoods_city_id</th>\n",
       "      <th>hoods_city_name</th>\n",
       "    </tr>\n",
       "  </thead>\n",
       "  <tbody>\n",
       "    <tr>\n",
       "      <th>3</th>\n",
       "      <td>Chicago</td>\n",
       "      <td>IL</td>\n",
       "      <td>NaN</td>\n",
       "      <td>2853114</td>\n",
       "      <td>41.878114</td>\n",
       "      <td>-87.629798</td>\n",
       "      <td>3.0</td>\n",
       "      <td>Chicago</td>\n",
       "    </tr>\n",
       "    <tr>\n",
       "      <th>203</th>\n",
       "      <td>Wheaton</td>\n",
       "      <td>IL</td>\n",
       "      <td>NaN</td>\n",
       "      <td>52894</td>\n",
       "      <td>41.865180</td>\n",
       "      <td>-88.106506</td>\n",
       "      <td>720.0</td>\n",
       "      <td>Wheaton</td>\n",
       "    </tr>\n",
       "    <tr>\n",
       "      <th>205</th>\n",
       "      <td>Oak Park</td>\n",
       "      <td>IL</td>\n",
       "      <td>NaN</td>\n",
       "      <td>52104</td>\n",
       "      <td>41.884873</td>\n",
       "      <td>-87.787354</td>\n",
       "      <td>738.0</td>\n",
       "      <td>Oak Park</td>\n",
       "    </tr>\n",
       "    <tr>\n",
       "      <th>219</th>\n",
       "      <td>Glenview</td>\n",
       "      <td>IL</td>\n",
       "      <td>NaN</td>\n",
       "      <td>44692</td>\n",
       "      <td>42.068410</td>\n",
       "      <td>-87.794666</td>\n",
       "      <td>883.0</td>\n",
       "      <td>Glenview</td>\n",
       "    </tr>\n",
       "    <tr>\n",
       "      <th>221</th>\n",
       "      <td>Elmhurst</td>\n",
       "      <td>IL</td>\n",
       "      <td>NaN</td>\n",
       "      <td>43996</td>\n",
       "      <td>41.898925</td>\n",
       "      <td>-87.941141</td>\n",
       "      <td>890.0</td>\n",
       "      <td>Elmhurst</td>\n",
       "    </tr>\n",
       "  </tbody>\n",
       "</table>\n",
       "</div>"
      ],
      "text/plain": [
       "          city state country  population        Lat        Lon  hoods_city_id  \\\n",
       "3      Chicago    IL     NaN     2853114  41.878114 -87.629798            3.0   \n",
       "203    Wheaton    IL     NaN       52894  41.865180 -88.106506          720.0   \n",
       "205  Oak Park     IL     NaN       52104  41.884873 -87.787354          738.0   \n",
       "219  Glenview     IL     NaN       44692  42.068410 -87.794666          883.0   \n",
       "221  Elmhurst     IL     NaN       43996  41.898925 -87.941141          890.0   \n",
       "\n",
       "    hoods_city_name  \n",
       "3           Chicago  \n",
       "203         Wheaton  \n",
       "205        Oak Park  \n",
       "219        Glenview  \n",
       "221        Elmhurst  "
      ]
     },
     "execution_count": 36,
     "metadata": {},
     "output_type": "execute_result"
    }
   ],
   "source": [
    "il_cities.head(5)"
   ]
  },
  {
   "cell_type": "code",
   "execution_count": 13,
   "metadata": {},
   "outputs": [
    {
     "data": {
      "text/html": [
       "<div>\n",
       "<style scoped>\n",
       "    .dataframe tbody tr th:only-of-type {\n",
       "        vertical-align: middle;\n",
       "    }\n",
       "\n",
       "    .dataframe tbody tr th {\n",
       "        vertical-align: top;\n",
       "    }\n",
       "\n",
       "    .dataframe thead th {\n",
       "        text-align: right;\n",
       "    }\n",
       "</style>\n",
       "<table border=\"1\" class=\"dataframe\">\n",
       "  <thead>\n",
       "    <tr style=\"text-align: right;\">\n",
       "      <th></th>\n",
       "      <th>city</th>\n",
       "      <th>state</th>\n",
       "      <th>country</th>\n",
       "      <th>population</th>\n",
       "      <th>Lat</th>\n",
       "      <th>Lon</th>\n",
       "      <th>hoods_city_id</th>\n",
       "      <th>hoods_city_name</th>\n",
       "    </tr>\n",
       "  </thead>\n",
       "  <tbody>\n",
       "    <tr>\n",
       "      <th>847</th>\n",
       "      <td>Wheeling</td>\n",
       "      <td>IL</td>\n",
       "      <td>NaN</td>\n",
       "      <td>37648</td>\n",
       "      <td>42.138668</td>\n",
       "      <td>-87.929226</td>\n",
       "      <td>1051.0</td>\n",
       "      <td>Wheeling</td>\n",
       "    </tr>\n",
       "  </tbody>\n",
       "</table>\n",
       "</div>"
      ],
      "text/plain": [
       "         city state country  population        Lat        Lon  hoods_city_id  \\\n",
       "847  Wheeling    IL     NaN       37648  42.138668 -87.929226         1051.0   \n",
       "\n",
       "    hoods_city_name  \n",
       "847        Wheeling  "
      ]
     },
     "execution_count": 13,
     "metadata": {},
     "output_type": "execute_result"
    }
   ],
   "source": [
    "il_cities[il_cities[\"city\"]==acsse[\"Place_Name\"][0]]"
   ]
  },
  {
   "cell_type": "code",
   "execution_count": 14,
   "metadata": {},
   "outputs": [],
   "source": [
    "#Merging acsse and il_cities\n",
    "merged = pd.merge(acsse, il_cities, how=\"inner\", left_on=\"Place_Name\", right_on=\"city\")"
   ]
  },
  {
   "cell_type": "code",
   "execution_count": 15,
   "metadata": {},
   "outputs": [
    {
     "data": {
      "text/plain": [
       "(53, 14)"
      ]
     },
     "execution_count": 15,
     "metadata": {},
     "output_type": "execute_result"
    }
   ],
   "source": [
    "#Same shape as acsse, so all entries are matched\n",
    "merged.shape"
   ]
  },
  {
   "cell_type": "code",
   "execution_count": 17,
   "metadata": {},
   "outputs": [
    {
     "data": {
      "text/html": [
       "<div>\n",
       "<style scoped>\n",
       "    .dataframe tbody tr th:only-of-type {\n",
       "        vertical-align: middle;\n",
       "    }\n",
       "\n",
       "    .dataframe tbody tr th {\n",
       "        vertical-align: top;\n",
       "    }\n",
       "\n",
       "    .dataframe thead th {\n",
       "        text-align: right;\n",
       "    }\n",
       "</style>\n",
       "<table border=\"1\" class=\"dataframe\">\n",
       "  <thead>\n",
       "    <tr style=\"text-align: right;\">\n",
       "      <th></th>\n",
       "      <th>censusgeo</th>\n",
       "      <th>Population</th>\n",
       "      <th>GEO_ID</th>\n",
       "      <th>Location</th>\n",
       "      <th>Place_Name</th>\n",
       "      <th>Place_Type</th>\n",
       "      <th>city</th>\n",
       "      <th>state</th>\n",
       "      <th>country</th>\n",
       "      <th>population</th>\n",
       "      <th>Lat</th>\n",
       "      <th>Lon</th>\n",
       "      <th>hoods_city_id</th>\n",
       "      <th>hoods_city_name</th>\n",
       "    </tr>\n",
       "  </thead>\n",
       "  <tbody>\n",
       "    <tr>\n",
       "      <th>0</th>\n",
       "      <td>Wheeling village, Illinois: Summary level: 160...</td>\n",
       "      <td>38877</td>\n",
       "      <td>1600000US1781087</td>\n",
       "      <td>Wheeling village</td>\n",
       "      <td>Wheeling</td>\n",
       "      <td>village</td>\n",
       "      <td>Wheeling</td>\n",
       "      <td>IL</td>\n",
       "      <td>NaN</td>\n",
       "      <td>37648</td>\n",
       "      <td>42.138668</td>\n",
       "      <td>-87.929226</td>\n",
       "      <td>1051.0</td>\n",
       "      <td>Wheeling</td>\n",
       "    </tr>\n",
       "    <tr>\n",
       "      <th>1</th>\n",
       "      <td>Glen Ellyn village, Illinois: Summary level: 1...</td>\n",
       "      <td>27558</td>\n",
       "      <td>1600000US1729756</td>\n",
       "      <td>Glen Ellyn village</td>\n",
       "      <td>Glen Ellyn</td>\n",
       "      <td>village</td>\n",
       "      <td>Glen Ellyn</td>\n",
       "      <td>IL</td>\n",
       "      <td>NaN</td>\n",
       "      <td>27450</td>\n",
       "      <td>41.876289</td>\n",
       "      <td>-88.067608</td>\n",
       "      <td>1504.0</td>\n",
       "      <td>Glen Ellyn</td>\n",
       "    </tr>\n",
       "  </tbody>\n",
       "</table>\n",
       "</div>"
      ],
      "text/plain": [
       "                                           censusgeo  Population  \\\n",
       "0  Wheeling village, Illinois: Summary level: 160...       38877   \n",
       "1  Glen Ellyn village, Illinois: Summary level: 1...       27558   \n",
       "\n",
       "             GEO_ID            Location  Place_Name Place_Type        city  \\\n",
       "0  1600000US1781087    Wheeling village    Wheeling    village    Wheeling   \n",
       "1  1600000US1729756  Glen Ellyn village  Glen Ellyn    village  Glen Ellyn   \n",
       "\n",
       "  state country  population        Lat        Lon  hoods_city_id  \\\n",
       "0    IL     NaN       37648  42.138668 -87.929226         1051.0   \n",
       "1    IL     NaN       27450  41.876289 -88.067608         1504.0   \n",
       "\n",
       "  hoods_city_name  \n",
       "0        Wheeling  \n",
       "1      Glen Ellyn  "
      ]
     },
     "execution_count": 17,
     "metadata": {},
     "output_type": "execute_result"
    }
   ],
   "source": [
    "merged.head(2)"
   ]
  },
  {
   "cell_type": "code",
   "execution_count": 23,
   "metadata": {},
   "outputs": [],
   "source": [
    "#Create list of jsons returned by transit score API\n",
    "datalist = create_datalist(merged[['city', 'Lat', 'Lon']])"
   ]
  },
  {
   "cell_type": "code",
   "execution_count": 24,
   "metadata": {},
   "outputs": [
    {
     "data": {
      "text/plain": [
       "(53, 9)"
      ]
     },
     "execution_count": 24,
     "metadata": {},
     "output_type": "execute_result"
    }
   ],
   "source": [
    "#Turn transit score list into dataframe\n",
    "ts = create_dataframe(datalist)\n",
    "#Check that all cities in merged get a transit score \n",
    "ts.shape"
   ]
  },
  {
   "cell_type": "code",
   "execution_count": 40,
   "metadata": {
    "scrolled": true
   },
   "outputs": [],
   "source": [
    "#Cleanup on final dataframe to be exported as csv\n",
    "tsdf = pd.merge(ts, merged, how=\"inner\", left_on=\"city\", right_on=\"Place_Name\")\n",
    "tsdf = tsdf.rename(columns={'city_x': 'city'})\n",
    "tsdf = tsdf.drop(columns=['Location', 'Place_Name','city_y','country','Population', 'population', 'hoods_city_id',\n",
    "       'hoods_city_name'])"
   ]
  },
  {
   "cell_type": "code",
   "execution_count": 44,
   "metadata": {},
   "outputs": [],
   "source": [
    "#Export as csv\n",
    "tsdf.to_csv('transit_score.csv', index=False)"
   ]
  },
  {
   "cell_type": "code",
   "execution_count": 60,
   "metadata": {},
   "outputs": [
    {
     "name": "stdout",
     "output_type": "stream",
     "text": [
      "Number of transit score supported cities incorrectly left out: 0\n"
     ]
    },
    {
     "data": {
      "text/html": [
       "<div>\n",
       "<style scoped>\n",
       "    .dataframe tbody tr th:only-of-type {\n",
       "        vertical-align: middle;\n",
       "    }\n",
       "\n",
       "    .dataframe tbody tr th {\n",
       "        vertical-align: top;\n",
       "    }\n",
       "\n",
       "    .dataframe thead th {\n",
       "        text-align: right;\n",
       "    }\n",
       "</style>\n",
       "<table border=\"1\" class=\"dataframe\">\n",
       "  <thead>\n",
       "    <tr style=\"text-align: right;\">\n",
       "      <th></th>\n",
       "      <th>censusgeo</th>\n",
       "      <th>Population</th>\n",
       "      <th>GEO_ID</th>\n",
       "      <th>Location</th>\n",
       "      <th>Place_Name</th>\n",
       "      <th>Place_Type</th>\n",
       "      <th>city</th>\n",
       "      <th>state</th>\n",
       "      <th>country</th>\n",
       "      <th>population</th>\n",
       "      <th>Lat</th>\n",
       "      <th>Lon</th>\n",
       "      <th>hoods_city_id</th>\n",
       "      <th>hoods_city_name</th>\n",
       "      <th>_merge</th>\n",
       "    </tr>\n",
       "  </thead>\n",
       "  <tbody>\n",
       "    <tr>\n",
       "      <th>4</th>\n",
       "      <td>Collinsville city, Illinois: Summary level: 16...</td>\n",
       "      <td>25400</td>\n",
       "      <td>1600000US1715599</td>\n",
       "      <td>Collinsville city</td>\n",
       "      <td>Collinsville</td>\n",
       "      <td>city</td>\n",
       "      <td>NaN</td>\n",
       "      <td>NaN</td>\n",
       "      <td>NaN</td>\n",
       "      <td>NaN</td>\n",
       "      <td>NaN</td>\n",
       "      <td>NaN</td>\n",
       "      <td>NaN</td>\n",
       "      <td>NaN</td>\n",
       "      <td>left_only</td>\n",
       "    </tr>\n",
       "    <tr>\n",
       "      <th>5</th>\n",
       "      <td>Bartlett village, Illinois: Summary level: 160...</td>\n",
       "      <td>42135</td>\n",
       "      <td>1600000US1704013</td>\n",
       "      <td>Bartlett village</td>\n",
       "      <td>Bartlett</td>\n",
       "      <td>village</td>\n",
       "      <td>NaN</td>\n",
       "      <td>NaN</td>\n",
       "      <td>NaN</td>\n",
       "      <td>NaN</td>\n",
       "      <td>NaN</td>\n",
       "      <td>NaN</td>\n",
       "      <td>NaN</td>\n",
       "      <td>NaN</td>\n",
       "      <td>left_only</td>\n",
       "    </tr>\n",
       "    <tr>\n",
       "      <th>7</th>\n",
       "      <td>West Chicago city, Illinois: Summary level: 16...</td>\n",
       "      <td>29091</td>\n",
       "      <td>1600000US1780060</td>\n",
       "      <td>West Chicago city</td>\n",
       "      <td>West Chicago</td>\n",
       "      <td>city</td>\n",
       "      <td>NaN</td>\n",
       "      <td>NaN</td>\n",
       "      <td>NaN</td>\n",
       "      <td>NaN</td>\n",
       "      <td>NaN</td>\n",
       "      <td>NaN</td>\n",
       "      <td>NaN</td>\n",
       "      <td>NaN</td>\n",
       "      <td>left_only</td>\n",
       "    </tr>\n",
       "    <tr>\n",
       "      <th>9</th>\n",
       "      <td>Lockport city, Illinois: Summary level: 160, s...</td>\n",
       "      <td>25785</td>\n",
       "      <td>1600000US1744225</td>\n",
       "      <td>Lockport city</td>\n",
       "      <td>Lockport</td>\n",
       "      <td>city</td>\n",
       "      <td>NaN</td>\n",
       "      <td>NaN</td>\n",
       "      <td>NaN</td>\n",
       "      <td>NaN</td>\n",
       "      <td>NaN</td>\n",
       "      <td>NaN</td>\n",
       "      <td>NaN</td>\n",
       "      <td>NaN</td>\n",
       "      <td>left_only</td>\n",
       "    </tr>\n",
       "    <tr>\n",
       "      <th>10</th>\n",
       "      <td>Elk Grove Village village, Illinois: Summary l...</td>\n",
       "      <td>33850</td>\n",
       "      <td>1600000US1723256</td>\n",
       "      <td>Elk Grove Village village</td>\n",
       "      <td>Elk Grove Village</td>\n",
       "      <td>village</td>\n",
       "      <td>NaN</td>\n",
       "      <td>NaN</td>\n",
       "      <td>NaN</td>\n",
       "      <td>NaN</td>\n",
       "      <td>NaN</td>\n",
       "      <td>NaN</td>\n",
       "      <td>NaN</td>\n",
       "      <td>NaN</td>\n",
       "      <td>left_only</td>\n",
       "    </tr>\n",
       "  </tbody>\n",
       "</table>\n",
       "</div>"
      ],
      "text/plain": [
       "                                            censusgeo  Population  \\\n",
       "4   Collinsville city, Illinois: Summary level: 16...       25400   \n",
       "5   Bartlett village, Illinois: Summary level: 160...       42135   \n",
       "7   West Chicago city, Illinois: Summary level: 16...       29091   \n",
       "9   Lockport city, Illinois: Summary level: 160, s...       25785   \n",
       "10  Elk Grove Village village, Illinois: Summary l...       33850   \n",
       "\n",
       "              GEO_ID                   Location         Place_Name Place_Type  \\\n",
       "4   1600000US1715599          Collinsville city       Collinsville       city   \n",
       "5   1600000US1704013           Bartlett village           Bartlett    village   \n",
       "7   1600000US1780060          West Chicago city       West Chicago       city   \n",
       "9   1600000US1744225              Lockport city           Lockport       city   \n",
       "10  1600000US1723256  Elk Grove Village village  Elk Grove Village    village   \n",
       "\n",
       "   city state country  population  Lat  Lon  hoods_city_id hoods_city_name  \\\n",
       "4   NaN   NaN     NaN         NaN  NaN  NaN            NaN             NaN   \n",
       "5   NaN   NaN     NaN         NaN  NaN  NaN            NaN             NaN   \n",
       "7   NaN   NaN     NaN         NaN  NaN  NaN            NaN             NaN   \n",
       "9   NaN   NaN     NaN         NaN  NaN  NaN            NaN             NaN   \n",
       "10  NaN   NaN     NaN         NaN  NaN  NaN            NaN             NaN   \n",
       "\n",
       "       _merge  \n",
       "4   left_only  \n",
       "5   left_only  \n",
       "7   left_only  \n",
       "9   left_only  \n",
       "10  left_only  "
      ]
     },
     "execution_count": 60,
     "metadata": {},
     "output_type": "execute_result"
    }
   ],
   "source": [
    "#Checking rows that didn't match for transit score\n",
    "check = acsse.merge(il_cities, how='left', left_on=\"Place_Name\", right_on=\"city\", indicator=True)\n",
    "\n",
    "acs_only = check[check['_merge']=='left_only']\n",
    "ts_only = check[check['_merge']=='right_only']\n",
    "\n",
    "print('Number of transit score supported cities incorrectly left out: {}'.format(ts_only.shape[0]))\n",
    "acs_only.head()"
   ]
  }
 ],
 "metadata": {
  "kernelspec": {
   "display_name": "Python 3",
   "language": "python",
   "name": "python3"
  },
  "language_info": {
   "codemirror_mode": {
    "name": "ipython",
    "version": 3
   },
   "file_extension": ".py",
   "mimetype": "text/x-python",
   "name": "python",
   "nbconvert_exporter": "python",
   "pygments_lexer": "ipython3",
   "version": "3.7.1"
  }
 },
 "nbformat": 4,
 "nbformat_minor": 2
}
