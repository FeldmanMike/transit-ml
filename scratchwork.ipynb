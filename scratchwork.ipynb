{
 "cells": [
  {
   "cell_type": "code",
   "execution_count": 1,
   "metadata": {},
   "outputs": [],
   "source": [
    "import pandas as pd\n",
    "import geopandas as gpd"
   ]
  },
  {
   "cell_type": "code",
   "execution_count": 8,
   "metadata": {},
   "outputs": [],
   "source": [
    "def merge_data_sources(acs5):\n",
    "    '''\n",
    "    Links acs5 data with transit score and job data. Calculates population \n",
    "    density and job density.\n",
    "    Inputs:\n",
    "        acs5 (pandas DataFrame)\n",
    "    Outputs:\n",
    "        (full pandas DataFrame with transit score data)\n",
    "    '''\n",
    "    #Extracting census tract ID\n",
    "    acs5['tract_GEO_ID'] = acs5['GEO_ID'].apply(lambda x: x[9:])\n",
    "\n",
    "    #Loading tracts\n",
    "    tracts = gpd.read_file('shape_tracts/tl_2018_17_tract.shp')\n",
    "    tracts = tracts[['GEOID', 'NAMELSAD', 'ALAND', 'geometry']] \\\n",
    "                        .rename(columns={'GEOID': 'tract_GEO_ID', 'NAMELSAD': 'tract_name',\n",
    "                       'ALAND': 'tract_area'})\n",
    "\n",
    "    #Loading places\n",
    "    places = gpd.read_file('shape_places/tl_2018_17_place.shp')\n",
    "    places = places[['GEOID', 'NAME', 'NAMELSAD', 'geometry']] \\\n",
    "                        .rename(columns={'GEOID': 'place_GEO_ID', 'NAME': 'place_name',\n",
    "                       'NAMELSAD': 'place_name_and_type'})\n",
    "\n",
    "    #Merging tracts and places\n",
    "    tracts_places = gpd.sjoin(tracts, places, how=\"inner\", op=\"intersects\")\n",
    "\n",
    "    #Merging acs data with traces/places\n",
    "    df = pd.merge(acs5, tracts_places, left_on='tract_GEO_ID', right_on='tract_GEO_ID')\n",
    "\n",
    "    #Importing transit score csv and merging\n",
    "    ts = pd.read_csv('transit_score.csv').rename(columns={'nearby_routes': 'num_nearby_routes', \\\n",
    "         'bus': 'num_bus_routes', 'rail': 'num_rail_routes', 'other': 'num_other_routes', \\\n",
    "         'city': 'city_from_ts', 'description': 'transit_description', 'summary': 'transit_summary', \\\n",
    "         'Lat': 'lat', 'Lon': 'lon'})\n",
    "    ts['tsplace_GEO_ID'] = ts['GEO_ID'].apply(lambda x: x[9:])\n",
    "    ts = ts.drop(columns=['censusgeo', 'Place_Type', 'state', 'GEO_ID'])\n",
    "    df = pd.merge(df, ts, how='inner', left_on='place_GEO_ID', right_on='tsplace_GEO_ID')\n",
    "\n",
    "    #Importing jobs by tract and merging\n",
    "    jobs = pd.read_csv('il_jobs_by_tract_2017.csv')\n",
    "    jobs = jobs[['id', 'label', 'c000']] \\\n",
    "            .rename(columns={'id': 'job_tract_GEO_ID', 'label': 'job_tract_label',\n",
    "                             'c000': 'num_jobs'})\n",
    "    jobs['job_tract_GEO_ID'] = jobs['job_tract_GEO_ID'].astype(str)\n",
    "    df = pd.merge(jobs, df, how='inner', left_on='job_tract_GEO_ID', right_on='tract_GEO_ID')\n",
    "\n",
    "    #Averaging transit score for census tracts\n",
    "    df = df.groupby('GEO_ID').mean().reset_index()\n",
    "\n",
    "    #Calculating population density and job density\n",
    "    df['job_density'] = df['num_jobs'] / ((df['tract_area'])/1000000)\n",
    "    df['pop_density'] = df['race_total'] / ((df['tract_area'])/1000000)\n",
    "\n",
    "    #Taking care of null values using pipline methods\n",
    "    cols_with_null = explore_df_summary_stats(df)\n",
    "    final_df, replacement = impute(df, cols_with_null)\n",
    "\n",
    "    return final_df"
   ]
  },
  {
   "cell_type": "code",
   "execution_count": 2,
   "metadata": {},
   "outputs": [
    {
     "data": {
      "text/plain": [
       "(3123, 106)"
      ]
     },
     "execution_count": 2,
     "metadata": {},
     "output_type": "execute_result"
    }
   ],
   "source": [
    "acs5 = pd.read_pickle('raw_acs5.pkl')\n",
    "from download import merge_data_sources\n",
    "acs5.shape"
   ]
  },
  {
   "cell_type": "code",
   "execution_count": 3,
   "metadata": {},
   "outputs": [
    {
     "name": "stdout",
     "output_type": "stream",
     "text": [
      "initial acs5 shape: 3123\n",
      "inital number of colums: 107\n",
      "--------------------------------------------------------------\n",
      "df shape after merging with tracts_place: 6566\n",
      "df number of colums: 114\n",
      "--------------------------------------------------------------\n",
      "df shape after mergin with transit score: 2097\n",
      "df number of colums: 126\n",
      "--------------------------------------------------------------\n",
      "df shape after mergin with jobs data: 2094\n",
      "df number of colums: 129\n",
      "--------------------------------------------------------------\n",
      "df shape after grouping: 1716\n",
      "df number of colums: 115\n",
      "df cols omitted becauseo of grouping: {'index', 'tsplace_GEO_ID', 'tract_name', 'job_tract_label', 'ws_link', 'place_name', 'place_name_and_type', 'transit_summary', 'place_GEO_ID', 'job_tract_GEO_ID', 'transit_description', 'tract_GEO_ID', 'city_from_ts', 'geometry'}\n",
      "df num columns with zero population: 0\n"
     ]
    }
   ],
   "source": [
    "final_df = merge_data_sources(acs5)"
   ]
  },
  {
   "cell_type": "code",
   "execution_count": 4,
   "metadata": {},
   "outputs": [],
   "source": [
    "final_df.to_pickle('data.pkl')"
   ]
  },
  {
   "cell_type": "code",
   "execution_count": 2,
   "metadata": {},
   "outputs": [],
   "source": [
    "data = pd.read_pickle('data.pkl')"
   ]
  },
  {
   "cell_type": "code",
   "execution_count": 7,
   "metadata": {},
   "outputs": [
    {
     "data": {
      "text/plain": [
       "array([['1400000US17097863005', 1.0, 0.0, 0.0, 0.0, 440.0, 138.0, 0.0,\n",
       "        0.0, 0.0, 0.0, 0.0, 0.0, 0.0, 242.0, 0.0, 0.0, 0.0, 380.0, 0.0,\n",
       "        0.0, 0.0, 0.0, 0.0, 8.0, 10.0, 0.0, 0.0, 0.0, 0.0, 47.0, 18.0,\n",
       "        83.0, 9.0, 0.0, 0.0, 8.0, 0.0, 0.0, 0.0, 0.0, 0.0, 440.0, 0.0,\n",
       "        0.0, 0.0, 0.0, 0.0, 0.0, 0.0, 0.0, 0.0, 0.0, 0.0, 0.0, 0.0,\n",
       "        376.0, 440.0, 64.0, 0.0, 0.0, 0.0, 0.0, 440.0, 0.0, -666666666.0,\n",
       "        17.0, 0.0, 0.0, 110.0, 440.0, 0.0, 0.0, 0.0, 0.0, 46.0, 440.0,\n",
       "        338.0, 17.0, 2018.0, 0.0, nan, nan, nan, 0.038636363636363635,\n",
       "        0.0, 0.0, 0.0963855421686747, 0.0, 0.7831325301204819,\n",
       "        0.12048192771084337, 0.0, 0.0, 0.7681818181818182,\n",
       "        0.10454545454545454, 0.0, 0.14545454545454545, 1.0, 0.0, 0.0,\n",
       "        0.0, 0.25, 0.0, 0.0, -666666666.0, nan, 1019796.0, 1164.0, 35.0,\n",
       "        4.0, 3.0, 1.0, 0.0, 42.32525513, -87.84030557,\n",
       "        0.9805882745176487, 431.45884078776544]], dtype=object)"
      ]
     },
     "execution_count": 7,
     "metadata": {},
     "output_type": "execute_result"
    }
   ],
   "source": [
    "data[data.isnull().any(axis=1)].values"
   ]
  },
  {
   "cell_type": "code",
   "execution_count": 11,
   "metadata": {},
   "outputs": [
    {
     "data": {
      "text/html": [
       "<div>\n",
       "<style scoped>\n",
       "    .dataframe tbody tr th:only-of-type {\n",
       "        vertical-align: middle;\n",
       "    }\n",
       "\n",
       "    .dataframe tbody tr th {\n",
       "        vertical-align: top;\n",
       "    }\n",
       "\n",
       "    .dataframe thead th {\n",
       "        text-align: right;\n",
       "    }\n",
       "</style>\n",
       "<table border=\"1\" class=\"dataframe\">\n",
       "  <thead>\n",
       "    <tr style=\"text-align: right;\">\n",
       "      <th></th>\n",
       "      <th>GEO_ID</th>\n",
       "      <th>num_jobs</th>\n",
       "      <th>car_avail_none</th>\n",
       "      <th>car_avail_total</th>\n",
       "      <th>commut_took_public_trans</th>\n",
       "      <th>commut_total</th>\n",
       "      <th>commute_time_10_to_14_min</th>\n",
       "      <th>commute_time_15_to_19_min</th>\n",
       "      <th>commute_time_20_to_24_min</th>\n",
       "      <th>commute_time_25_to_29_min</th>\n",
       "      <th>...</th>\n",
       "      <th>index_right</th>\n",
       "      <th>transit_score</th>\n",
       "      <th>num_nearby_routes</th>\n",
       "      <th>num_bus_routes</th>\n",
       "      <th>num_rail_routes</th>\n",
       "      <th>num_other_routes</th>\n",
       "      <th>lat</th>\n",
       "      <th>lon</th>\n",
       "      <th>job_density</th>\n",
       "      <th>pop_density</th>\n",
       "    </tr>\n",
       "  </thead>\n",
       "  <tbody>\n",
       "  </tbody>\n",
       "</table>\n",
       "<p>0 rows × 117 columns</p>\n",
       "</div>"
      ],
      "text/plain": [
       "Empty DataFrame\n",
       "Columns: [GEO_ID, num_jobs, car_avail_none, car_avail_total, commut_took_public_trans, commut_total, commute_time_10_to_14_min, commute_time_15_to_19_min, commute_time_20_to_24_min, commute_time_25_to_29_min, commute_time_30_to_34_min, commute_time_35_to_39_min, commute_time_40_to_44_min, commute_time_45_to_59_min, commute_time_5_to_9_min, commute_time_60_to_89_min, commute_time_90_plus_min, commute_time_less_5_min, commute_time_total, disabl_none_18_to_64, disabl_none_65_plus, disabl_none_under_18, disabl_status_total, educ_attnmt_HS_GED, educ_attnmt_HS_reg, educ_attnmt_bachelors, educ_attnmt_grad_doctorate, educ_attnmt_grad_masters, educ_attnmt_grad_prof_degree, educ_attnmt_some_college_associates, educ_attnmt_some_college_less_1_yr, educ_attnmt_some_college_more_1_yr, educ_attnmt_total, emp_men_16_to_19_in_lbr_force, emp_men_20_to_21_in_lbr_force, emp_men_22_to_24_in_lbr_force, emp_men_25_to_29_in_lbr_force, emp_men_60_to_61_in_lbr_force, emp_men_62_to_64_in_lbr_force, emp_men_65_to_69_in_lbr_force, emp_men_70_to_74_in_lbr_force, emp_men_75_plus_in_lbr_force, emp_status_total, emp_women_16_to_19_in_lbr_force, emp_women_20_to_21_in_lbr_force, emp_women_22_to_24_in_lbr_force, emp_women_25_to_29_in_lbr_force, emp_women_30_to_34_in_lbr_force, emp_women_35_to_44_in_lbr_force, emp_women_45_to_54_in_lbr_force, emp_women_55_to_59_in_lbr_force, emp_women_60_to_61_in_lbr_force, emp_women_62_to_64_in_lbr_force, emp_women_65_to_69_in_lbr_force, emp_women_70_to_74_in_lbr_force, emp_women_75_plus_in_lbr_force, hispan_origin_no, hispan_origin_total, hispan_origin_yes, home_own_status, home_own_yes, home_rent_yes, household_type_men_liv_alone, household_type_total, household_type_women_liv_alone, income_median, industry_emp_total, industry_self_emp_incorp, industry_self_emp_non_incorp, marital_status_men_married, marital_status_total, marital_status_women_married, poverty_status_total, poverty_status_yes, race_asian_alone, race_black_alone, race_total, race_white_alone, total_in_labor_force, year, commuting_ridership, with_disability, below_poverty_level, carless, young_employed, old_employed, women_in_labor_force, high_school_diploma, GED, some_college, bachelors_degree, graduate_degree, less_than_high_school, pct_white, pct_black, pct_asian, pct_hispanic, commute_less_than_15, commute_15to29, commute_30to44, ...]\n",
       "Index: []\n",
       "\n",
       "[0 rows x 117 columns]"
      ]
     },
     "execution_count": 11,
     "metadata": {},
     "output_type": "execute_result"
    }
   ],
   "source": [
    "data = data.fillna(0)\n",
    "data[data.isnull().any(axis=1)]"
   ]
  },
  {
   "cell_type": "code",
   "execution_count": 13,
   "metadata": {},
   "outputs": [
    {
     "data": {
      "text/plain": [
       "array([['1400000US17097863005', 1.0, 0.0, 0.0, 0.0, 440.0, 138.0, 0.0,\n",
       "        0.0, 0.0, 0.0, 0.0, 0.0, 0.0, 242.0, 0.0, 0.0, 0.0, 380.0, 0.0,\n",
       "        0.0, 0.0, 0.0, 0.0, 8.0, 10.0, 0.0, 0.0, 0.0, 0.0, 47.0, 18.0,\n",
       "        83.0, 9.0, 0.0, 0.0, 8.0, 0.0, 0.0, 0.0, 0.0, 0.0, 440.0, 0.0,\n",
       "        0.0, 0.0, 0.0, 0.0, 0.0, 0.0, 0.0, 0.0, 0.0, 0.0, 0.0, 0.0,\n",
       "        376.0, 440.0, 64.0, 0.0, 0.0, 0.0, 0.0, 440.0, 0.0, -666666666.0,\n",
       "        17.0, 0.0, 0.0, 110.0, 440.0, 0.0, 0.0, 0.0, 0.0, 46.0, 440.0,\n",
       "        338.0, 17.0, 2018.0, 0.0, 0.0, 0.0, 0.0, 0.038636363636363635,\n",
       "        0.0, 0.0, 0.0963855421686747, 0.0, 0.7831325301204819,\n",
       "        0.12048192771084337, 0.0, 0.0, 0.7681818181818182,\n",
       "        0.10454545454545454, 0.0, 0.14545454545454545, 1.0, 0.0, 0.0,\n",
       "        0.0, 0.25, 0.0, 0.0, -666666666.0, 0.0, 1019796.0, 1164.0, 35.0,\n",
       "        4.0, 3.0, 1.0, 0.0, 42.32525513, -87.84030557,\n",
       "        0.9805882745176487, 431.45884078776544]], dtype=object)"
      ]
     },
     "execution_count": 13,
     "metadata": {},
     "output_type": "execute_result"
    }
   ],
   "source": [
    "data[data['GEO_ID']=='1400000US17097863005'].values"
   ]
  },
  {
   "cell_type": "code",
   "execution_count": null,
   "metadata": {},
   "outputs": [],
   "source": []
  }
 ],
 "metadata": {
  "kernelspec": {
   "display_name": "Python 3",
   "language": "python",
   "name": "python3"
  },
  "language_info": {
   "codemirror_mode": {
    "name": "ipython",
    "version": 3
   },
   "file_extension": ".py",
   "mimetype": "text/x-python",
   "name": "python",
   "nbconvert_exporter": "python",
   "pygments_lexer": "ipython3",
   "version": "3.7.1"
  }
 },
 "nbformat": 4,
 "nbformat_minor": 2
}
